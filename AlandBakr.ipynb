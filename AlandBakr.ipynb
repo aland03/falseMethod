{
  "nbformat": 4,
  "nbformat_minor": 0,
  "metadata": {
    "colab": {
      "provenance": [],
      "collapsed_sections": [],
      "authorship_tag": "ABX9TyOeJTxJ4nmwv6Cw/kkEoooa",
      "include_colab_link": true
    },
    "kernelspec": {
      "name": "python3",
      "display_name": "Python 3"
    },
    "language_info": {
      "name": "python"
    }
  },
  "cells": [
    {
      "cell_type": "markdown",
      "metadata": {
        "id": "view-in-github",
        "colab_type": "text"
      },
      "source": [
        "<a href=\"https://colab.research.google.com/github/aland03/falseMethod/blob/main/AlandBakr.ipynb\" target=\"_parent\"><img src=\"https://colab.research.google.com/assets/colab-badge.svg\" alt=\"Open In Colab\"/></a>"
      ]
    },
    {
      "cell_type": "code",
      "source": [
        "# nasandny hawkeshaka\n",
        "def f(x):\n",
        "    return x**2 - 2*x - 4\n",
        "\n",
        "# bakar henany yasay false method\n",
        "def falsePosition(x0,x1,e):\n",
        "    step = 1\n",
        "    print('\\n\\n*** FALSE POSITION METHOD IMPLEMENTATION ***')\n",
        "    condition = True\n",
        "    while condition:\n",
        "        x2 = x0 - (x1-x0) * f(x0)/( f(x1) - f(x0) )\n",
        "        print('Iteration-%d, x2 = %0.6f and f(x2) = %0.6f' % (step, x2, f(x2)))\n",
        "\n",
        "        if f(x0) * f(x2) < 0:\n",
        "            x1 = x2\n",
        "        else:\n",
        "            x0 = x2\n",
        "\n",
        "        step = step + 1\n",
        "        condition = abs(f(x2)) > e\n",
        "\n",
        "    print('\\nRequired root is: %0.8f' % x2)\n",
        "\n",
        "\n",
        "# # Input Section\n",
        "# x0 = input('First Guess: ')\n",
        "# x1 = input('Second Guess: ')\n",
        "# e = input('Tolerable Error: ')\n",
        "\n",
        "# # Converting input to float\n",
        "# x0 = float(x0)\n",
        "# x1 = float(x1)\n",
        "# e = float(e)\n",
        "\n",
        "#Note: You can combine above two section like this\n",
        "x0 = float(input('First Guess: '))\n",
        "x1 = float(input('Second Guess: '))\n",
        "e = float(input('Tolerable Error: '))\n",
        "\n",
        "\n",
        "# Checking Correctness of initial guess values and false positioning\n",
        "if f(x0) * f(x1) > 0.0:\n",
        "    print('Given guess values do not bracket the root.')\n",
        "    print('Try Again with different guess values.')\n",
        "else:\n",
        "    falsePosition(x0,x1,e)"
      ],
      "metadata": {
        "colab": {
          "base_uri": "https://localhost:8080/"
        },
        "id": "gsFJ0KnqxxsE",
        "outputId": "23065905-d590-489a-aa61-22133c29d983"
      },
      "execution_count": 1,
      "outputs": [
        {
          "output_type": "stream",
          "name": "stdout",
          "text": [
            "First Guess: 3\n",
            "Second Guess: 4\n",
            "Tolerable Error: 0.0008\n",
            "\n",
            "\n",
            "*** FALSE POSITION METHOD IMPLEMENTATION ***\n",
            "Iteration-1, x2 = 3.200000 and f(x2) = -0.160000\n",
            "Iteration-2, x2 = 3.230769 and f(x2) = -0.023669\n",
            "Iteration-3, x2 = 3.235294 and f(x2) = -0.003460\n",
            "Iteration-4, x2 = 3.235955 and f(x2) = -0.000505\n",
            "\n",
            "Required root is: 3.23595506\n"
          ]
        }
      ]
    }
  ]
}